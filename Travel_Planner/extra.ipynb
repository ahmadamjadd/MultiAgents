{
 "cells": [
  {
   "cell_type": "code",
   "execution_count": 1,
   "id": "0a9ea3cf",
   "metadata": {},
   "outputs": [
    {
     "data": {
      "text/plain": [
       "\"I'm just a language model, so I don't have feelings or emotions like humans do, but I'm functioning properly and ready to help with any questions or tasks you may have. How can I assist you today?\""
      ]
     },
     "execution_count": 1,
     "metadata": {},
     "output_type": "execute_result"
    }
   ],
   "source": [
    "from langchain_community.tools import tool\n",
    "from langchain_groq import ChatGroq\n",
    "from langchain.chains.llm_math.base import LLMMathChain\n",
    "from langchain.agents import Tool\n",
    "import os\n",
    "from dotenv import load_dotenv\n",
    "\n",
    "load_dotenv()\n",
    "\n",
    "os.environ[\"GROQ_API_KEY\"] = os.getenv(\"GROQ_API_KEY\")\n",
    "os.environ[\"TAVILY_API_KEY\"] = os.getenv(\"TAVILY_API_KEY\")\n",
    "llm = ChatGroq(model = \"llama-3.3-70b-versatile\", temperature = 0.5)\n",
    "llm.invoke(\"Hi, how are you?\").content\n"
   ]
  },
  {
   "cell_type": "code",
   "execution_count": 2,
   "id": "8bce84f9",
   "metadata": {},
   "outputs": [],
   "source": [
    "problem_chain = LLMMathChain.from_llm(llm=llm)\n",
    "math_tool = Tool.from_function(name=\"Calculator\",\n",
    "                func=problem_chain.run,\n",
    "                 description=\"Useful for when you need to answer questions about math. This tool is only for math questions and nothing else. Only input math expressions.\")"
   ]
  },
  {
   "cell_type": "code",
   "execution_count": 3,
   "id": "a4b7175e",
   "metadata": {},
   "outputs": [
    {
     "data": {
      "text/plain": [
       "'Answer: 72'"
      ]
     },
     "execution_count": 3,
     "metadata": {},
     "output_type": "execute_result"
    }
   ],
   "source": [
    "math_tool.invoke(\"45 + 3 * 9\")"
   ]
  },
  {
   "cell_type": "code",
   "execution_count": 4,
   "id": "9b1121ca",
   "metadata": {},
   "outputs": [],
   "source": [
    "from langchain_tavily import TavilySearch\n",
    "\n",
    "search = TavilySearch()\n",
    "\n"
   ]
  },
  {
   "cell_type": "code",
   "execution_count": 5,
   "id": "255446be",
   "metadata": {},
   "outputs": [],
   "source": [
    "from langchain_core.messages import HumanMessage\n",
    "\n",
    "def agent_node(state, agent, name):\n",
    "    # Only pass the last user message\n",
    "    latest_user_msg = [m for m in state[\"messages\"] if m.type == \"human\"][-1]\n",
    "    result = agent.invoke({\"messages\": [latest_user_msg]})\n",
    "    return {\n",
    "        \"messages\": [\n",
    "            HumanMessage(content=result[\"messages\"][-1].content, name=name)\n",
    "        ]\n",
    "    }\n"
   ]
  },
  {
   "cell_type": "code",
   "execution_count": 6,
   "id": "a7aa5c12",
   "metadata": {},
   "outputs": [],
   "source": [
    "from langchain_core.prompts import ChatPromptTemplate, MessagesPlaceholder\n",
    "from pydantic import BaseModel\n",
    "from typing import Literal\n",
    "\n",
    "members = [\"Destination Expert\", \"Budget Planner\", \"Itinerary Builder\"]\n",
    "options = [\"FINISH\"] + members\n",
    "\n",
    "class routeResponse(BaseModel):\n",
    "    next: Literal[*options]"
   ]
  },
  {
   "cell_type": "code",
   "execution_count": 7,
   "id": "f273355e",
   "metadata": {},
   "outputs": [],
   "source": [
    "system_prompt = (\n",
    "    \"You are a supervisor managing a team of travel planning agents: {members}. \"\n",
    "    \"Your role is to coordinate the workflow based on the user's travel request. \"\n",
    "    \"Follow these rules:\\n\"\n",
    "    \"1. **Destination Expert** first identifies locations matching the user's preferences.\\n\"\n",
    "    \"2. **Budget Planner** checks if the destinations fit the user's budget.\\n\"\n",
    "    \"3. **Itinerary Builder** creates a day-wise plan if the budget is approved.\\n\"\n",
    "    \"4. If the user's request is fully resolved (e.g., itinerary is generated), respond with FINISH.\\n\"\n",
    "    \"Never skip steps or assign the wrong agent.\"\n",
    ")\n",
    "\n",
    "prompt = ChatPromptTemplate.from_messages(\n",
    "    [\n",
    "        (\"system\", system_prompt),\n",
    "        MessagesPlaceholder(variable_name=\"messages\"),\n",
    "        (\n",
    "            \"system\",\n",
    "            \"Given the conversation above, who should act next? \"\n",
    "            \"Choose strictly based on the workflow: {options}. \"\n",
    "            \"Respond ONLY with the agent's name or FINISH.\",\n",
    "        ),\n",
    "    ]\n",
    ").partial(options=str(options), members=\", \".join(members))"
   ]
  },
  {
   "cell_type": "code",
   "execution_count": 8,
   "id": "983839e0",
   "metadata": {},
   "outputs": [],
   "source": [
    "def supervisor_agent(state):\n",
    "    supervisor_chain = (\n",
    "        prompt\n",
    "        | llm.with_structured_output(routeResponse)\n",
    "    )\n",
    "    return supervisor_chain.invoke(state)"
   ]
  },
  {
   "cell_type": "code",
   "execution_count": 9,
   "id": "cacf40cd",
   "metadata": {},
   "outputs": [],
   "source": [
    "import functools\n",
    "import operator\n",
    "from typing import Sequence, TypedDict\n",
    "from typing import Annotated\n",
    "\n",
    "\n",
    "from langchain_core.messages import BaseMessage\n",
    "\n",
    "from langgraph.graph import END, StateGraph, START\n",
    "from langgraph.prebuilt import create_react_agent\n",
    "\n",
    "# The agent state is the input to each node in the graph\n",
    "class AgentState(TypedDict):\n",
    "    # The annotation tells the graph that new messages will always\n",
    "    # be added to the current states\n",
    "    messages: Annotated[Sequence[BaseMessage], operator.add]\n",
    "    # The 'next' field indicates where to route to next\n",
    "    next: str"
   ]
  },
  {
   "cell_type": "code",
   "execution_count": 10,
   "id": "ca73bfd0",
   "metadata": {},
   "outputs": [],
   "source": [
    "destination_expert_prompt = ChatPromptTemplate.from_messages(\n",
    "    [\n",
    "        (\n",
    "            \"system\",\n",
    "            \"\"\"You are a **Destination Expert** specialized in travel recommendations. Your task:\n",
    "1. Use **Tavily Search** to find destinations matching the user's criteria (e.g., budget, interests, duration).\n",
    "2. Return ONLY relevant, concise results. Prioritize:\n",
    "   - Family-friendly locations if travelers include children.\n",
    "   - Budget constraints (e.g., \"free attractions under Rs.X\").\n",
    "   - Must-see spots for short trips (<5 days).\n",
    "3. Never hallucinate. If no results exist, say: \"No destinations found matching your criteria.\"\n",
    "\n",
    "**Tools**: You have Tavily Search to fetch real-time data. Use it for every query.\n",
    "\n",
    "**Example Output**:\n",
    "Destinations for a 3-day Bali trip under $1000:\n",
    "\n",
    "Uluwatu Temple (free entry, scenic views)\n",
    "\n",
    "Ubud Monkey Forest (Rs.5, cultural experience)\n",
    "\n",
    "Nusa Penida snorkeling (Rs.50, best for adventure)\n",
    "\"\"\"\n",
    "        ),\n",
    "        MessagesPlaceholder(variable_name=\"messages\"),\n",
    "    ]\n",
    ")"
   ]
  },
  {
   "cell_type": "code",
   "execution_count": 11,
   "id": "7ef69a16",
   "metadata": {},
   "outputs": [],
   "source": [
    "budget_planner_prompt = ChatPromptTemplate.from_messages(\n",
    "    [\n",
    "        (\n",
    "            \"system\",\n",
    "            \"\"\"You are a **Budget Planner** specialized in travel cost analysis for Pakistan. Your task:\n",
    "1. Use **Tavily Search** to find current prices (in PKR) for:\n",
    "   - Attractions, hotels, transport in Islamabad.\n",
    "   - Average meal costs (e.g., \"average restaurant meal price in Islamabad\").\n",
    "2. Use the **Calculator** to:\n",
    "   - Convert total budget to daily allowance (e.g., \"Rs5000 for 3 days → Rs1666/day\").\n",
    "   - Compare costs against the budget.\n",
    "3. **Output Format (Strictly in PKR)**:\n",
    "Budget Analysis (PKR):\n",
    "\n",
    "Total Budget: RsX\n",
    "\n",
    "Daily Budget: RsY/day\n",
    "\n",
    "Cost Breakdown:\n",
    "\n",
    "Verdict: \"Feasible within budget\" or \"Exceeds budget by RsK. Suggest: [adjustment]\"\n",
    "4. Rules:\n",
    "   - Always show prices in Pakistani Rupees (Rs).\n",
    "   - Cite Tavily for price data (e.g., \"source: Tavily\").\n",
    "   - If no data found: \"Price data unavailable for [item]. Recommend manual check.\"\n",
    "   - Example query for Tavily: \"current entry fee for Faisal Mosque in PKR 2024\".\n",
    "\"\"\"\n",
    "        ),\n",
    "        MessagesPlaceholder(variable_name=\"messages\"),\n",
    "    ]\n",
    ")\n"
   ]
  },
  {
   "cell_type": "code",
   "execution_count": 12,
   "id": "516953d4",
   "metadata": {},
   "outputs": [],
   "source": [
    "itinerary_builder_prompt = ChatPromptTemplate.from_messages(\n",
    "    [\n",
    "        (\n",
    "            \"system\",\n",
    "            \"\"\"You are an **Itinerary Builder** that creates optimized travel schedules. Rules:\n",
    "1. Input: Approved destinations + budget from Budget Planner.\n",
    "2. Generate a **hour-by-hour** plan for each day, including:\n",
    "   - Travel time between locations (e.g., \"30min taxi\").\n",
    "   - Cost reminders (e.g., \"Budget left: $X\").\n",
    "   - Diversity (mix of cultural, leisure, adventure).\n",
    "3. Output format:\n",
    "Day 1: [Theme]\n",
    "\n",
    "9:00 AM: Activity 1 (Rs.X, duration)\n",
    "\n",
    "12:00 PM: Lunch at [Place] (Rs.Y)\n",
    "\n",
    "2:00 PM: Activity 2 (Rs.Z, duration)\n",
    "...\n",
    "Day 2: [Theme]\n",
    "...\n",
    "4. If no destinations are provided, say: \"No itinerary generated. Check with Destination Expert.\"\n",
    "\"\"\"\n",
    "        ),\n",
    "        MessagesPlaceholder(variable_name=\"messages\"),\n",
    "    ]\n",
    ")"
   ]
  },
  {
   "cell_type": "code",
   "execution_count": 13,
   "id": "0a4c09f3",
   "metadata": {},
   "outputs": [],
   "source": [
    "destination_expert_agent = create_react_agent(llm, tools=[search], prompt=destination_expert_prompt)\n",
    "budget_planner_agent = create_react_agent(\n",
    "    llm,\n",
    "    tools=[math_tool, search],\n",
    "    prompt=budget_planner_prompt\n",
    ")\n",
    "itinerary_builder_agent = create_react_agent(\n",
    "    llm,\n",
    "    tools=[],  # No tools for now\n",
    "    prompt=itinerary_builder_prompt\n",
    ")"
   ]
  },
  {
   "cell_type": "code",
   "execution_count": 14,
   "id": "190e21f6",
   "metadata": {},
   "outputs": [],
   "source": [
    "destination_expert_node = functools.partial(agent_node, agent=destination_expert_agent, name=\"Destination Expert\")"
   ]
  },
  {
   "cell_type": "code",
   "execution_count": 15,
   "id": "21dbda66",
   "metadata": {},
   "outputs": [],
   "source": [
    "budget_planner_node = functools.partial(agent_node, agent=budget_planner_agent, name=\"Budget Planner\")"
   ]
  },
  {
   "cell_type": "code",
   "execution_count": 16,
   "id": "56f3890c",
   "metadata": {},
   "outputs": [],
   "source": [
    "itinerary_builder_node = functools.partial(agent_node, agent=itinerary_builder_agent, name=\"Itinerary Builder\")"
   ]
  },
  {
   "cell_type": "code",
   "execution_count": 17,
   "id": "2cec754e",
   "metadata": {},
   "outputs": [
    {
     "data": {
      "text/plain": [
       "<langgraph.graph.state.StateGraph at 0x17c4437e3c0>"
      ]
     },
     "execution_count": 17,
     "metadata": {},
     "output_type": "execute_result"
    }
   ],
   "source": [
    "workflow = StateGraph(AgentState)\n",
    "workflow.add_node(\"Destination Expert\", destination_expert_node)\n",
    "workflow.add_node(\"Budget Planner\", budget_planner_node)\n",
    "workflow.add_node(\"Itinerary Builder\", itinerary_builder_node)\n",
    "workflow.add_node(\"supervisor\", supervisor_agent)\n",
    "for member in members:\n",
    "    # We want our workers to ALWAYS \"report back\" to the supervisor when done\n",
    "    workflow.add_edge(member, \"supervisor\")\n",
    "# The supervisor populates the \"next\" field in the graph state\n",
    "# which routes to a node or finishes\n",
    "conditional_map = {k: k for k in members}\n",
    "conditional_map[\"FINISH\"] = END\n",
    "workflow.add_conditional_edges(\"supervisor\", lambda x: x[\"next\"], conditional_map)\n",
    "# Finally, add entrypoint\n",
    "workflow.add_edge(START, \"supervisor\")"
   ]
  },
  {
   "cell_type": "code",
   "execution_count": 18,
   "id": "c910c1ed",
   "metadata": {},
   "outputs": [],
   "source": [
    "graph = workflow.compile()"
   ]
  },
  {
   "cell_type": "code",
   "execution_count": 19,
   "id": "49e5c8a9",
   "metadata": {},
   "outputs": [
    {
     "data": {
      "image/png": "[encoded data removed]",
      "text/plain": [
       "<IPython.core.display.Image object>"
      ]
     },
     "metadata": {},
     "output_type": "display_data"
    }
   ],
   "source": [
    "from IPython.display import Image, display\n",
    "try:\n",
    "    display(Image(graph.get_graph().draw_mermaid_png()))\n",
    "except Exception as e:\n",
    "    print(f\"Error visualizing graph: {e}\")"
   ]
  },
  {
   "cell_type": "code",
   "execution_count": 20,
   "id": "d1dc0282",
   "metadata": {},
   "outputs": [
    {
     "name": "stdout",
     "output_type": "stream",
     "text": [
      "{'supervisor': {'next': 'Destination Expert'}}\n",
      "----\n",
      "{'Destination Expert': {'messages': [HumanMessage(content='Based on the search results, here are some destinations in Islamabad that can be visited with a budget of Rs5000:\\n\\n1. Faisal Mosque: A popular tourist spot that can accommodate 300,000 worshippers and offers beautiful views.\\n2. Fatima Jinnah Park: A nice park in the middle of the capital city, good for walking and spending a couple of hours.\\n3. Trail No. 5: Offers beautiful views of lush green Margalla hills on one side and Islamabad plus Rawal Lake on the other.\\n4. Dino Valley: A new place to explore in the Margalla Hills.\\n5. Pir Sohawa City View Point: A popular place that offers a beautiful view of the city, just 17 kilometers away.\\n\\nThese destinations offer a mix of natural beauty, cultural experiences, and outdoor activities that can be enjoyed within the budget of Rs5000.', additional_kwargs={}, response_metadata={}, name='Destination Expert')]}}\n",
      "----\n",
      "{'supervisor': {'next': 'Budget Planner'}}\n",
      "----\n",
      "{'Budget Planner': {'messages': [HumanMessage(content='Budget Analysis (PKR):\\n\\nTotal Budget: Rs5000\\n\\nDaily Budget: Rs1666.67/day\\n\\nCost Breakdown:\\n- Faisal Mosque: No entry fee (source: Tavily)\\n- Fatima Jinnah Park: PKR 20 per person (source: Tavily)\\n- Trail No. 5: Price data unavailable for Trail No. 5 (source: Tavily)\\n- Dino Valley: PKR 500-700 per person (source: Tavily)\\n- Pir Sohawa City View Point: Price data unavailable for Pir Sohawa City View Point (source: Tavily)\\n- Average restaurant meal price in Islamabad: PKR 1,200 (source: Tavily)\\n- Current hotel prices in Islamabad: Starting from PKR 5,699 (source: Tavily)\\n- Current transport prices in Islamabad: PKR 45 for bus fare (source: Tavily)\\n\\nVerdict: Feasible within budget. Suggest: Plan your trip according to the available budget and adjust your expenses accordingly.', additional_kwargs={}, response_metadata={}, name='Budget Planner')]}}\n",
      "----\n",
      "{'supervisor': {'next': 'Itinerary Builder'}}\n",
      "----\n",
      "{'Itinerary Builder': {'messages': [HumanMessage(content=\"Based on the approved destinations and budget, I've generated a 3-day itinerary for Islamabad. \\n\\nDay 1: Cultural Exploration\\n\\n9:00 AM: Visit Faisal Mosque (Free, 2 hours)\\n   - Travel to Faisal Mosque: 30min taxi (approx. Rs100)\\n   - Budget left: Rs1566.67\\n\\n12:00 PM: Lunch at a local restaurant (Rs1200)\\n   - Budget left: Rs366.67\\n\\n2:00 PM: Visit Fatima Jinnah Park (Rs20, 2 hours)\\n   - Travel to Fatima Jinnah Park: 20min bus (Rs45)\\n   - Budget left: Rs301.67\\n\\nDay 2: Adventure\\n\\n9:00 AM: Hike Trail No. 5 (Price data unavailable, assuming Rs500, 4 hours)\\n   - Travel to Trail No. 5: 45min taxi (approx. Rs200)\\n   - Budget left: Rs966.67 (considering the previous day's and current day's expenses)\\n\\n1:00 PM: Lunch at a local restaurant (Rs1200)\\n   - Budget left: Rs766.67 (considering the previous day's and current day's expenses) - Rs1200 (lunch) = -Rs433.33 (deficit), adjust expenses accordingly\\n\\n3:00 PM: Visit Pir Sohawa City View Point (Price data unavailable, assuming Rs200, 2 hours)\\n   - Travel to Pir Sohawa City View Point: 30min taxi (approx. Rs150)\\n   - Budget left: Rs416.67 (adjusting for the deficit)\\n\\nDay 3: Leisure\\n\\n9:00 AM: Visit Dino Valley (Rs600, 3 hours)\\n   - Travel to Dino Valley: 20min taxi (approx. Rs100)\\n   - Budget left: Rs716.67\\n\\n12:30 PM: Lunch at a local restaurant (Rs1200), adjust meal choice to fit the budget (e.g., Rs600)\\n   - Budget left: Rs116.67 (adjusting for the deficit)\\n\\n2:30 PM: Free time for shopping or relaxation\\n   - Budget left: Rs116.67, manage expenses carefully to stay within budget\\n\\nThis itinerary provides a mix of cultural, leisure, and adventure activities while trying to stay within the given budget. However, please note that some expenses, like hotel prices and exact transport costs, are not accounted for in this plan. Adjustments might be necessary to stay within the budget.\", additional_kwargs={}, response_metadata={}, name='Itinerary Builder')]}}\n",
      "----\n",
      "{'supervisor': {'next': 'FINISH'}}\n",
      "----\n"
     ]
    }
   ],
   "source": [
    "for s in graph.stream(\n",
    "    {\n",
    "        \"messages\": [\n",
    "            HumanMessage(content=\"I want to visit Islamabad with a budget of Rs5000\")\n",
    "        ]\n",
    "    }\n",
    "):\n",
    "    if \"__end__\" not in s:\n",
    "        print(s)\n",
    "        print(\"----\")"
   ]
  },
  {
   "cell_type": "code",
   "execution_count": null,
   "id": "4b16dad5",
   "metadata": {},
   "outputs": [],
   "source": []
  }
 ],
 "metadata": {
  "kernelspec": {
   "display_name": "ai_agents",
   "language": "python",
   "name": "python3"
  },
  "language_info": {
   "codemirror_mode": {
    "name": "ipython",
    "version": 3
   },
   "file_extension": ".py",
   "mimetype": "text/x-python",
   "name": "python",
   "nbconvert_exporter": "python",
   "pygments_lexer": "ipython3",
   "version": "3.12.5"
  }
 },
 "nbformat": 4,
 "nbformat_minor": 5
}
